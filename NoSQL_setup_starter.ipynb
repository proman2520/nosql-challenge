{
 "cells": [
  {
   "cell_type": "markdown",
   "id": "9a57c4c6",
   "metadata": {},
   "source": [
    "# Eat Safe, Love"
   ]
  },
  {
   "cell_type": "markdown",
   "id": "064ef857",
   "metadata": {},
   "source": [
    "## Part 1: Database and Jupyter Notebook Set Up"
   ]
  },
  {
   "cell_type": "markdown",
   "id": "664e3c1f",
   "metadata": {},
   "source": [
    "Import the data provided in the `establishments.json` file from your Terminal. Name the database `uk_food` and the collection `establishments`.\n",
    "\n",
    "Within this markdown cell, copy the line of text you used to import the data from your Terminal. This way, future analysts will be able to repeat your process.\n",
    "\n",
    "e.g.: Import the dataset with `mongoImport --type json -d uk_food -c establishments --drop --jsonArray establishments.json`"
   ]
  },
  {
   "cell_type": "code",
   "execution_count": 38,
   "id": "3ecdd008",
   "metadata": {},
   "outputs": [],
   "source": [
    "# Import dependencies\n",
    "from pymongo import MongoClient\n",
    "from pprint import pprint"
   ]
  },
  {
   "cell_type": "code",
   "execution_count": 39,
   "id": "59390c4a",
   "metadata": {},
   "outputs": [],
   "source": [
    "# Create an instance of MongoClient\n",
    "mongo = MongoClient(port=27017)"
   ]
  },
  {
   "cell_type": "code",
   "execution_count": 40,
   "id": "7f9ececa",
   "metadata": {},
   "outputs": [
    {
     "name": "stdout",
     "output_type": "stream",
     "text": [
      "['admin', 'config', 'local', 'uk_food']\n"
     ]
    }
   ],
   "source": [
    "# confirm that our new database was created\n",
    "print(mongo.list_database_names())"
   ]
  },
  {
   "cell_type": "code",
   "execution_count": 41,
   "id": "71e373c1",
   "metadata": {},
   "outputs": [],
   "source": [
    "# assign the uk_food database to a variable name\n",
    "db = mongo['uk_food']"
   ]
  },
  {
   "cell_type": "code",
   "execution_count": 42,
   "id": "ef1b89ed",
   "metadata": {},
   "outputs": [],
   "source": [
    "# review the collections in our new database\n",
    "collection_names = db.list_collection_names()"
   ]
  },
  {
   "cell_type": "code",
   "execution_count": 43,
   "id": "18ab463c",
   "metadata": {},
   "outputs": [
    {
     "name": "stdout",
     "output_type": "stream",
     "text": [
      "['establishments']\n"
     ]
    }
   ],
   "source": [
    "# review the collections in our new database\n",
    "print(collection_names)"
   ]
  },
  {
   "cell_type": "code",
   "execution_count": 44,
   "id": "6a0d92df",
   "metadata": {},
   "outputs": [
    {
     "name": "stdout",
     "output_type": "stream",
     "text": [
      "{'AddressLine1': 'East Cliff Pavilion',\n",
      " 'AddressLine2': 'Wear Bay Road',\n",
      " 'AddressLine3': 'Folkestone',\n",
      " 'AddressLine4': 'Kent',\n",
      " 'BusinessName': 'The Pavilion',\n",
      " 'BusinessType': 'Restaurant/Cafe/Canteen',\n",
      " 'BusinessTypeID': 1,\n",
      " 'ChangesByServerID': 0,\n",
      " 'Distance': 4591.765489457773,\n",
      " 'FHRSID': 1043695,\n",
      " 'LocalAuthorityBusinessID': 'PI/000073616',\n",
      " 'LocalAuthorityCode': '188',\n",
      " 'LocalAuthorityEmailAddress': 'foodteam@folkestone-hythe.gov.uk',\n",
      " 'LocalAuthorityName': 'Folkestone and Hythe',\n",
      " 'LocalAuthorityWebSite': 'http://www.folkestone-hythe.gov.uk',\n",
      " 'NewRatingPending': False,\n",
      " 'Phone': '',\n",
      " 'PostCode': 'CT19 6BL',\n",
      " 'RatingDate': '2018-04-04T00:00:00',\n",
      " 'RatingKey': 'fhrs_5_en-gb',\n",
      " 'RatingValue': '5',\n",
      " 'RightToReply': '',\n",
      " 'SchemeType': 'FHRS',\n",
      " '_id': ObjectId('65071c4b2f042d2400f82027'),\n",
      " 'geocode': {'latitude': {'$toDouble': '$geocode.latitude'},\n",
      "             'longitude': {'$toDouble': '$geocode.longitude'}},\n",
      " 'links': [{'href': 'https://api.ratings.food.gov.uk/establishments/1043695',\n",
      "            'rel': 'self'}],\n",
      " 'meta': {'dataSource': None,\n",
      "          'extractDate': '0001-01-01T00:00:00',\n",
      "          'itemCount': 0,\n",
      "          'pageNumber': 0,\n",
      "          'pageSize': 0,\n",
      "          'returncode': None,\n",
      "          'totalCount': 0,\n",
      "          'totalPages': 0},\n",
      " 'scores': {'ConfidenceInManagement': 5, 'Hygiene': 5, 'Structural': 5}}\n"
     ]
    }
   ],
   "source": [
    "# review a document in the establishments collection\n",
    "document1 = db.establishments.find_one()\n",
    "pprint(document1)"
   ]
  },
  {
   "cell_type": "code",
   "execution_count": 45,
   "id": "11c9f11b",
   "metadata": {},
   "outputs": [],
   "source": [
    "# assign the collection to a variable\n",
    "establishments = db['establishments']"
   ]
  },
  {
   "cell_type": "markdown",
   "id": "d5671434",
   "metadata": {},
   "source": [
    "## Part 2: Update the Database"
   ]
  },
  {
   "cell_type": "markdown",
   "id": "314bd884",
   "metadata": {},
   "source": [
    "1. An exciting new halal restaurant just opened in Greenwich, but hasn't been rated yet. The magazine has asked you to include it in your analysis. Add the following restaurant \"Penang Flavours\" to the database."
   ]
  },
  {
   "cell_type": "code",
   "execution_count": 46,
   "id": "c2da7648",
   "metadata": {},
   "outputs": [],
   "source": [
    "# Create a dictionary for the new restaurant data\n",
    "penang_flavours = {\n",
    "    \"BusinessName\":\"Penang Flavours\",\n",
    "    \"BusinessType\":\"Restaurant/Cafe/Canteen\",\n",
    "    \"BusinessTypeID\":\"\",\n",
    "    \"AddressLine1\":\"Penang Flavours\",\n",
    "    \"AddressLine2\":\"146A Plumstead Rd\",\n",
    "    \"AddressLine3\":\"London\",\n",
    "    \"AddressLine4\":\"\",\n",
    "    \"PostCode\":\"SE18 7DY\",\n",
    "    \"Phone\":\"\",\n",
    "    \"LocalAuthorityCode\":\"511\",\n",
    "    \"LocalAuthorityName\":\"Greenwich\",\n",
    "    \"LocalAuthorityWebSite\":\"http://www.royalgreenwich.gov.uk\",\n",
    "    \"LocalAuthorityEmailAddress\":\"health@royalgreenwich.gov.uk\",\n",
    "    \"scores\":{\n",
    "        \"Hygiene\":\"\",\n",
    "        \"Structural\":\"\",\n",
    "        \"ConfidenceInManagement\":\"\"\n",
    "    },\n",
    "    \"SchemeType\":\"FHRS\",\n",
    "    \"geocode\":{\n",
    "        \"longitude\":\"0.08384000\",\n",
    "        \"latitude\":\"51.49014200\"\n",
    "    },\n",
    "    \"RightToReply\":\"\",\n",
    "    \"Distance\":4623.9723280747176,\n",
    "    \"NewRatingPending\":True\n",
    "}"
   ]
  },
  {
   "cell_type": "code",
   "execution_count": 47,
   "id": "a6e5cece",
   "metadata": {},
   "outputs": [],
   "source": [
    "# Insert the new restaurant into the collection\n",
    "inserted_db = establishments.insert_one(penang_flavours)"
   ]
  },
  {
   "cell_type": "code",
   "execution_count": 48,
   "id": "63bb10f9",
   "metadata": {},
   "outputs": [
    {
     "name": "stdout",
     "output_type": "stream",
     "text": [
      "{'AddressLine1': 'Penang Flavours',\n",
      " 'AddressLine2': '146A Plumstead Rd',\n",
      " 'AddressLine3': 'London',\n",
      " 'AddressLine4': '',\n",
      " 'BusinessName': 'Penang Flavours',\n",
      " 'BusinessType': 'Restaurant/Cafe/Canteen',\n",
      " 'BusinessTypeID': 1,\n",
      " 'Distance': 4623.972328074718,\n",
      " 'LocalAuthorityCode': '511',\n",
      " 'LocalAuthorityEmailAddress': 'health@royalgreenwich.gov.uk',\n",
      " 'LocalAuthorityName': 'Greenwich',\n",
      " 'LocalAuthorityWebSite': 'http://www.royalgreenwich.gov.uk',\n",
      " 'NewRatingPending': True,\n",
      " 'Phone': '',\n",
      " 'PostCode': 'SE18 7DY',\n",
      " 'RightToReply': '',\n",
      " 'SchemeType': 'FHRS',\n",
      " '_id': ObjectId('650727ad09a9a4f7a62434f9'),\n",
      " 'geocode': {'latitude': {'$toDouble': '$geocode.latitude'},\n",
      "             'longitude': {'$toDouble': '$geocode.longitude'}},\n",
      " 'scores': {'ConfidenceInManagement': '', 'Hygiene': '', 'Structural': ''}}\n"
     ]
    }
   ],
   "source": [
    "# Check that the new restaurant was inserted\n",
    "insert = establishments.find_one({\"BusinessName\":\"Penang Flavours\"})\n",
    "pprint(insert)"
   ]
  },
  {
   "cell_type": "markdown",
   "id": "0ef4395a",
   "metadata": {},
   "source": [
    "2. Find the BusinessTypeID for \"Restaurant/Cafe/Canteen\" and return only the `BusinessTypeID` and `BusinessType` fields."
   ]
  },
  {
   "cell_type": "code",
   "execution_count": 49,
   "id": "93c63829",
   "metadata": {},
   "outputs": [
    {
     "data": {
      "text/plain": [
       "{'_id': ObjectId('65071c4b2f042d2400f82027'),\n",
       " 'BusinessType': 'Restaurant/Cafe/Canteen',\n",
       " 'BusinessTypeID': 1}"
      ]
     },
     "execution_count": 49,
     "metadata": {},
     "output_type": "execute_result"
    }
   ],
   "source": [
    "# Find the BusinessTypeID for \"Restaurant/Cafe/Canteen\" and return only the BusinessTypeID and BusinessType fields\n",
    "establishments.find_one({\"BusinessType\" : \"Restaurant/Cafe/Canteen\"},[\"BusinessType\", \"BusinessTypeID\"])"
   ]
  },
  {
   "cell_type": "markdown",
   "id": "4e570caf",
   "metadata": {},
   "source": [
    "3. Update the new restaurant with the `BusinessTypeID` you found."
   ]
  },
  {
   "cell_type": "code",
   "execution_count": 50,
   "id": "7f599f3d",
   "metadata": {},
   "outputs": [
    {
     "data": {
      "text/plain": [
       "<pymongo.results.UpdateResult at 0x28600eb97e0>"
      ]
     },
     "execution_count": 50,
     "metadata": {},
     "output_type": "execute_result"
    }
   ],
   "source": [
    "# Update the new restaurant with the correct BusinessTypeID\n",
    "establishments.update_one(penang_flavours, {'$set' : {\"BusinessTypeID\":1}})"
   ]
  },
  {
   "cell_type": "code",
   "execution_count": 51,
   "id": "a6ad16f7",
   "metadata": {},
   "outputs": [
    {
     "data": {
      "text/plain": [
       "{'_id': ObjectId('650727ad09a9a4f7a62434f9'),\n",
       " 'BusinessName': 'Penang Flavours',\n",
       " 'BusinessType': 'Restaurant/Cafe/Canteen',\n",
       " 'BusinessTypeID': 1,\n",
       " 'AddressLine1': 'Penang Flavours',\n",
       " 'AddressLine2': '146A Plumstead Rd',\n",
       " 'AddressLine3': 'London',\n",
       " 'AddressLine4': '',\n",
       " 'PostCode': 'SE18 7DY',\n",
       " 'Phone': '',\n",
       " 'LocalAuthorityCode': '511',\n",
       " 'LocalAuthorityName': 'Greenwich',\n",
       " 'LocalAuthorityWebSite': 'http://www.royalgreenwich.gov.uk',\n",
       " 'LocalAuthorityEmailAddress': 'health@royalgreenwich.gov.uk',\n",
       " 'scores': {'Hygiene': '', 'Structural': '', 'ConfidenceInManagement': ''},\n",
       " 'SchemeType': 'FHRS',\n",
       " 'geocode': {'longitude': {'$toDouble': '$geocode.longitude'},\n",
       "  'latitude': {'$toDouble': '$geocode.latitude'}},\n",
       " 'RightToReply': '',\n",
       " 'Distance': 4623.972328074718,\n",
       " 'NewRatingPending': True}"
      ]
     },
     "execution_count": 51,
     "metadata": {},
     "output_type": "execute_result"
    }
   ],
   "source": [
    "# Confirm that the new restaurant was updated\n",
    "establishments.find_one({\"BusinessName\":\"Penang Flavours\"})"
   ]
  },
  {
   "cell_type": "markdown",
   "id": "67281254",
   "metadata": {},
   "source": [
    "4. The magazine is not interested in any establishments in Dover, so check how many documents contain the Dover Local Authority. Then, remove any establishments within the Dover Local Authority from the database, and check the number of documents to ensure they were deleted."
   ]
  },
  {
   "cell_type": "code",
   "execution_count": 52,
   "id": "768474a6",
   "metadata": {},
   "outputs": [
    {
     "name": "stdout",
     "output_type": "stream",
     "text": [
      "0\n"
     ]
    }
   ],
   "source": [
    "# Find how many documents have LocalAuthorityName as \"Dover\"\n",
    "dover_count = establishments.count_documents({\"LocalAuthorityName\" : \"Dover\"})\n",
    "print(dover_count)"
   ]
  },
  {
   "cell_type": "code",
   "execution_count": 53,
   "id": "a11d5f1b",
   "metadata": {},
   "outputs": [
    {
     "data": {
      "text/plain": [
       "<pymongo.results.DeleteResult at 0x2867f6dbb80>"
      ]
     },
     "execution_count": 53,
     "metadata": {},
     "output_type": "execute_result"
    }
   ],
   "source": [
    "# Delete all documents where LocalAuthorityName is \"Dover\"\n",
    "establishments.delete_many({\"LocalAuthorityName\" : \"Dover\"})"
   ]
  },
  {
   "cell_type": "code",
   "execution_count": 54,
   "id": "2a51aba0",
   "metadata": {},
   "outputs": [
    {
     "name": "stdout",
     "output_type": "stream",
     "text": [
      "0\n"
     ]
    }
   ],
   "source": [
    "# Check if any remaining documents include Dover\n",
    "new_dover_count = establishments.count_documents({\"LocalAuthorityName\" : \"Dover\"})\n",
    "print(new_dover_count)"
   ]
  },
  {
   "cell_type": "code",
   "execution_count": 55,
   "id": "8c356f7b",
   "metadata": {},
   "outputs": [
    {
     "data": {
      "text/plain": [
       "{'_id': ObjectId('65071c4b2f042d2400f82027'),\n",
       " 'FHRSID': 1043695,\n",
       " 'ChangesByServerID': 0,\n",
       " 'LocalAuthorityBusinessID': 'PI/000073616',\n",
       " 'BusinessName': 'The Pavilion',\n",
       " 'BusinessType': 'Restaurant/Cafe/Canteen',\n",
       " 'BusinessTypeID': 1,\n",
       " 'AddressLine1': 'East Cliff Pavilion',\n",
       " 'AddressLine2': 'Wear Bay Road',\n",
       " 'AddressLine3': 'Folkestone',\n",
       " 'AddressLine4': 'Kent',\n",
       " 'PostCode': 'CT19 6BL',\n",
       " 'Phone': '',\n",
       " 'RatingValue': '5',\n",
       " 'RatingKey': 'fhrs_5_en-gb',\n",
       " 'RatingDate': '2018-04-04T00:00:00',\n",
       " 'LocalAuthorityCode': '188',\n",
       " 'LocalAuthorityName': 'Folkestone and Hythe',\n",
       " 'LocalAuthorityWebSite': 'http://www.folkestone-hythe.gov.uk',\n",
       " 'LocalAuthorityEmailAddress': 'foodteam@folkestone-hythe.gov.uk',\n",
       " 'scores': {'Hygiene': 5, 'Structural': 5, 'ConfidenceInManagement': 5},\n",
       " 'SchemeType': 'FHRS',\n",
       " 'geocode': {'longitude': {'$toDouble': '$geocode.longitude'},\n",
       "  'latitude': {'$toDouble': '$geocode.latitude'}},\n",
       " 'RightToReply': '',\n",
       " 'Distance': 4591.765489457773,\n",
       " 'NewRatingPending': False,\n",
       " 'meta': {'dataSource': None,\n",
       "  'extractDate': '0001-01-01T00:00:00',\n",
       "  'itemCount': 0,\n",
       "  'returncode': None,\n",
       "  'totalCount': 0,\n",
       "  'totalPages': 0,\n",
       "  'pageSize': 0,\n",
       "  'pageNumber': 0},\n",
       " 'links': [{'rel': 'self',\n",
       "   'href': 'https://api.ratings.food.gov.uk/establishments/1043695'}]}"
      ]
     },
     "execution_count": 55,
     "metadata": {},
     "output_type": "execute_result"
    }
   ],
   "source": [
    "# Check that other documents remain with 'find_one'\n",
    "establishments.find_one()"
   ]
  },
  {
   "attachments": {},
   "cell_type": "markdown",
   "id": "e9f1662d",
   "metadata": {},
   "source": [
    "5. Some of the number values are stored as strings, when they should be stored as numbers."
   ]
  },
  {
   "attachments": {},
   "cell_type": "markdown",
   "id": "c46df2df",
   "metadata": {},
   "source": [
    "Use `update_many` to convert `latitude` and `longitude` to decimal numbers."
   ]
  },
  {
   "cell_type": "code",
   "execution_count": 57,
   "id": "fd4112ce",
   "metadata": {},
   "outputs": [
    {
     "ename": "WriteError",
     "evalue": "Unsupported conversion from object to decimal in $convert with no onError value, full error: {'index': 0, 'code': 241, 'errmsg': 'Unsupported conversion from object to decimal in $convert with no onError value'}",
     "output_type": "error",
     "traceback": [
      "\u001b[1;31m---------------------------------------------------------------------------\u001b[0m",
      "\u001b[1;31mWriteError\u001b[0m                                Traceback (most recent call last)",
      "\u001b[1;32mc:\\Users\\andre\\Documents\\GitHub\\nosql-challenge\\NoSQL_setup_starter.ipynb Cell 29\u001b[0m line \u001b[0;36m2\n\u001b[0;32m      <a href='vscode-notebook-cell:/c%3A/Users/andre/Documents/GitHub/nosql-challenge/NoSQL_setup_starter.ipynb#X40sZmlsZQ%3D%3D?line=0'>1</a>\u001b[0m \u001b[39m# Change the data type from String to Decimal for longitude and latitude\u001b[39;00m\n\u001b[1;32m----> <a href='vscode-notebook-cell:/c%3A/Users/andre/Documents/GitHub/nosql-challenge/NoSQL_setup_starter.ipynb#X40sZmlsZQ%3D%3D?line=1'>2</a>\u001b[0m establishments\u001b[39m.\u001b[39;49mupdate_many({}, [{\u001b[39m'\u001b[39;49m\u001b[39m$set\u001b[39;49m\u001b[39m'\u001b[39;49m: {\u001b[39m'\u001b[39;49m\u001b[39mgeocode.longitude\u001b[39;49m\u001b[39m'\u001b[39;49m: {\u001b[39m'\u001b[39;49m\u001b[39m$toDecimal\u001b[39;49m\u001b[39m'\u001b[39;49m: \u001b[39m'\u001b[39;49m\u001b[39m$geocode.longitude\u001b[39;49m\u001b[39m'\u001b[39;49m},\\\n\u001b[0;32m      <a href='vscode-notebook-cell:/c%3A/Users/andre/Documents/GitHub/nosql-challenge/NoSQL_setup_starter.ipynb#X40sZmlsZQ%3D%3D?line=2'>3</a>\u001b[0m                                         \u001b[39m'\u001b[39;49m\u001b[39mgeocode.latitude\u001b[39;49m\u001b[39m'\u001b[39;49m: {\u001b[39m'\u001b[39;49m\u001b[39m$toDecimal\u001b[39;49m\u001b[39m'\u001b[39;49m: \u001b[39m'\u001b[39;49m\u001b[39m$geocode.latitude\u001b[39;49m\u001b[39m'\u001b[39;49m}}}])\n\u001b[0;32m      <a href='vscode-notebook-cell:/c%3A/Users/andre/Documents/GitHub/nosql-challenge/NoSQL_setup_starter.ipynb#X40sZmlsZQ%3D%3D?line=3'>4</a>\u001b[0m establishments\u001b[39m.\u001b[39mfind_one()\n",
      "File \u001b[1;32mc:\\Users\\andre\\anaconda3\\lib\\site-packages\\pymongo\\collection.py:1189\u001b[0m, in \u001b[0;36mCollection.update_many\u001b[1;34m(self, filter, update, upsert, array_filters, bypass_document_validation, collation, hint, session, let, comment)\u001b[0m\n\u001b[0;32m   1185\u001b[0m common\u001b[39m.\u001b[39mvalidate_list_or_none(\u001b[39m\"\u001b[39m\u001b[39marray_filters\u001b[39m\u001b[39m\"\u001b[39m, array_filters)\n\u001b[0;32m   1187\u001b[0m write_concern \u001b[39m=\u001b[39m \u001b[39mself\u001b[39m\u001b[39m.\u001b[39m_write_concern_for(session)\n\u001b[0;32m   1188\u001b[0m \u001b[39mreturn\u001b[39;00m UpdateResult(\n\u001b[1;32m-> 1189\u001b[0m     \u001b[39mself\u001b[39;49m\u001b[39m.\u001b[39;49m_update_retryable(\n\u001b[0;32m   1190\u001b[0m         \u001b[39mfilter\u001b[39;49m,\n\u001b[0;32m   1191\u001b[0m         update,\n\u001b[0;32m   1192\u001b[0m         upsert,\n\u001b[0;32m   1193\u001b[0m         multi\u001b[39m=\u001b[39;49m\u001b[39mTrue\u001b[39;49;00m,\n\u001b[0;32m   1194\u001b[0m         write_concern\u001b[39m=\u001b[39;49mwrite_concern,\n\u001b[0;32m   1195\u001b[0m         bypass_doc_val\u001b[39m=\u001b[39;49mbypass_document_validation,\n\u001b[0;32m   1196\u001b[0m         collation\u001b[39m=\u001b[39;49mcollation,\n\u001b[0;32m   1197\u001b[0m         array_filters\u001b[39m=\u001b[39;49marray_filters,\n\u001b[0;32m   1198\u001b[0m         hint\u001b[39m=\u001b[39;49mhint,\n\u001b[0;32m   1199\u001b[0m         session\u001b[39m=\u001b[39;49msession,\n\u001b[0;32m   1200\u001b[0m         let\u001b[39m=\u001b[39;49mlet,\n\u001b[0;32m   1201\u001b[0m         comment\u001b[39m=\u001b[39;49mcomment,\n\u001b[0;32m   1202\u001b[0m     ),\n\u001b[0;32m   1203\u001b[0m     write_concern\u001b[39m.\u001b[39macknowledged,\n\u001b[0;32m   1204\u001b[0m )\n",
      "File \u001b[1;32mc:\\Users\\andre\\anaconda3\\lib\\site-packages\\pymongo\\collection.py:883\u001b[0m, in \u001b[0;36mCollection._update_retryable\u001b[1;34m(self, criteria, document, upsert, multi, write_concern, op_id, ordered, bypass_doc_val, collation, array_filters, hint, session, let, comment)\u001b[0m\n\u001b[0;32m    861\u001b[0m \u001b[39mdef\u001b[39;00m \u001b[39m_update\u001b[39m(\n\u001b[0;32m    862\u001b[0m     session: Optional[ClientSession], conn: Connection, retryable_write: \u001b[39mbool\u001b[39m\n\u001b[0;32m    863\u001b[0m ) \u001b[39m-\u001b[39m\u001b[39m>\u001b[39m Optional[Mapping[\u001b[39mstr\u001b[39m, Any]]:\n\u001b[0;32m    864\u001b[0m     \u001b[39mreturn\u001b[39;00m \u001b[39mself\u001b[39m\u001b[39m.\u001b[39m_update(\n\u001b[0;32m    865\u001b[0m         conn,\n\u001b[0;32m    866\u001b[0m         criteria,\n\u001b[1;32m   (...)\u001b[0m\n\u001b[0;32m    880\u001b[0m         comment\u001b[39m=\u001b[39mcomment,\n\u001b[0;32m    881\u001b[0m     )\n\u001b[1;32m--> 883\u001b[0m \u001b[39mreturn\u001b[39;00m \u001b[39mself\u001b[39;49m\u001b[39m.\u001b[39;49m__database\u001b[39m.\u001b[39;49mclient\u001b[39m.\u001b[39;49m_retryable_write(\n\u001b[0;32m    884\u001b[0m     (write_concern \u001b[39mor\u001b[39;49;00m \u001b[39mself\u001b[39;49m\u001b[39m.\u001b[39;49mwrite_concern)\u001b[39m.\u001b[39;49macknowledged \u001b[39mand\u001b[39;49;00m \u001b[39mnot\u001b[39;49;00m multi, _update, session\n\u001b[0;32m    885\u001b[0m )\n",
      "File \u001b[1;32mc:\\Users\\andre\\anaconda3\\lib\\site-packages\\pymongo\\mongo_client.py:1568\u001b[0m, in \u001b[0;36mMongoClient._retryable_write\u001b[1;34m(self, retryable, func, session)\u001b[0m\n\u001b[0;32m   1566\u001b[0m \u001b[39m\"\"\"Internal retryable write helper.\"\"\"\u001b[39;00m\n\u001b[0;32m   1567\u001b[0m \u001b[39mwith\u001b[39;00m \u001b[39mself\u001b[39m\u001b[39m.\u001b[39m_tmp_session(session) \u001b[39mas\u001b[39;00m s:\n\u001b[1;32m-> 1568\u001b[0m     \u001b[39mreturn\u001b[39;00m \u001b[39mself\u001b[39;49m\u001b[39m.\u001b[39;49m_retry_with_session(retryable, func, s, \u001b[39mNone\u001b[39;49;00m)\n",
      "File \u001b[1;32mc:\\Users\\andre\\anaconda3\\lib\\site-packages\\pymongo\\mongo_client.py:1413\u001b[0m, in \u001b[0;36mMongoClient._retry_with_session\u001b[1;34m(self, retryable, func, session, bulk)\u001b[0m\n\u001b[0;32m   1403\u001b[0m \u001b[39m\"\"\"Execute an operation with at most one consecutive retries\u001b[39;00m\n\u001b[0;32m   1404\u001b[0m \n\u001b[0;32m   1405\u001b[0m \u001b[39mReturns func()'s return value on success. On error retries the same\u001b[39;00m\n\u001b[1;32m   (...)\u001b[0m\n\u001b[0;32m   1408\u001b[0m \u001b[39mRe-raises any exception thrown by func().\u001b[39;00m\n\u001b[0;32m   1409\u001b[0m \u001b[39m\"\"\"\u001b[39;00m\n\u001b[0;32m   1410\u001b[0m retryable \u001b[39m=\u001b[39m \u001b[39mbool\u001b[39m(\n\u001b[0;32m   1411\u001b[0m     retryable \u001b[39mand\u001b[39;00m \u001b[39mself\u001b[39m\u001b[39m.\u001b[39moptions\u001b[39m.\u001b[39mretry_writes \u001b[39mand\u001b[39;00m session \u001b[39mand\u001b[39;00m \u001b[39mnot\u001b[39;00m session\u001b[39m.\u001b[39min_transaction\n\u001b[0;32m   1412\u001b[0m )\n\u001b[1;32m-> 1413\u001b[0m \u001b[39mreturn\u001b[39;00m \u001b[39mself\u001b[39;49m\u001b[39m.\u001b[39;49m_retry_internal(retryable, func, session, bulk)\n",
      "File \u001b[1;32mc:\\Users\\andre\\anaconda3\\lib\\site-packages\\pymongo\\_csot.py:108\u001b[0m, in \u001b[0;36mapply.<locals>.csot_wrapper\u001b[1;34m(self, *args, **kwargs)\u001b[0m\n\u001b[0;32m    106\u001b[0m         \u001b[39mwith\u001b[39;00m _TimeoutContext(timeout):\n\u001b[0;32m    107\u001b[0m             \u001b[39mreturn\u001b[39;00m func(\u001b[39mself\u001b[39m, \u001b[39m*\u001b[39margs, \u001b[39m*\u001b[39m\u001b[39m*\u001b[39mkwargs)\n\u001b[1;32m--> 108\u001b[0m \u001b[39mreturn\u001b[39;00m func(\u001b[39mself\u001b[39m, \u001b[39m*\u001b[39margs, \u001b[39m*\u001b[39m\u001b[39m*\u001b[39mkwargs)\n",
      "File \u001b[1;32mc:\\Users\\andre\\anaconda3\\lib\\site-packages\\pymongo\\mongo_client.py:1460\u001b[0m, in \u001b[0;36mMongoClient._retry_internal\u001b[1;34m(self, retryable, func, session, bulk)\u001b[0m\n\u001b[0;32m   1458\u001b[0m                 \u001b[39mraise\u001b[39;00m last_error\n\u001b[0;32m   1459\u001b[0m             retryable \u001b[39m=\u001b[39m \u001b[39mFalse\u001b[39;00m\n\u001b[1;32m-> 1460\u001b[0m         \u001b[39mreturn\u001b[39;00m func(session, conn, retryable)\n\u001b[0;32m   1461\u001b[0m \u001b[39mexcept\u001b[39;00m ServerSelectionTimeoutError:\n\u001b[0;32m   1462\u001b[0m     \u001b[39mif\u001b[39;00m is_retrying():\n\u001b[0;32m   1463\u001b[0m         \u001b[39m# The application may think the write was never attempted\u001b[39;00m\n\u001b[0;32m   1464\u001b[0m         \u001b[39m# if we raise ServerSelectionTimeoutError on the retry\u001b[39;00m\n\u001b[0;32m   1465\u001b[0m         \u001b[39m# attempt. Raise the original exception instead.\u001b[39;00m\n",
      "File \u001b[1;32mc:\\Users\\andre\\anaconda3\\lib\\site-packages\\pymongo\\collection.py:864\u001b[0m, in \u001b[0;36mCollection._update_retryable.<locals>._update\u001b[1;34m(session, conn, retryable_write)\u001b[0m\n\u001b[0;32m    861\u001b[0m \u001b[39mdef\u001b[39;00m \u001b[39m_update\u001b[39m(\n\u001b[0;32m    862\u001b[0m     session: Optional[ClientSession], conn: Connection, retryable_write: \u001b[39mbool\u001b[39m\n\u001b[0;32m    863\u001b[0m ) \u001b[39m-\u001b[39m\u001b[39m>\u001b[39m Optional[Mapping[\u001b[39mstr\u001b[39m, Any]]:\n\u001b[1;32m--> 864\u001b[0m     \u001b[39mreturn\u001b[39;00m \u001b[39mself\u001b[39;49m\u001b[39m.\u001b[39;49m_update(\n\u001b[0;32m    865\u001b[0m         conn,\n\u001b[0;32m    866\u001b[0m         criteria,\n\u001b[0;32m    867\u001b[0m         document,\n\u001b[0;32m    868\u001b[0m         upsert\u001b[39m=\u001b[39;49mupsert,\n\u001b[0;32m    869\u001b[0m         multi\u001b[39m=\u001b[39;49mmulti,\n\u001b[0;32m    870\u001b[0m         write_concern\u001b[39m=\u001b[39;49mwrite_concern,\n\u001b[0;32m    871\u001b[0m         op_id\u001b[39m=\u001b[39;49mop_id,\n\u001b[0;32m    872\u001b[0m         ordered\u001b[39m=\u001b[39;49mordered,\n\u001b[0;32m    873\u001b[0m         bypass_doc_val\u001b[39m=\u001b[39;49mbypass_doc_val,\n\u001b[0;32m    874\u001b[0m         collation\u001b[39m=\u001b[39;49mcollation,\n\u001b[0;32m    875\u001b[0m         array_filters\u001b[39m=\u001b[39;49marray_filters,\n\u001b[0;32m    876\u001b[0m         hint\u001b[39m=\u001b[39;49mhint,\n\u001b[0;32m    877\u001b[0m         session\u001b[39m=\u001b[39;49msession,\n\u001b[0;32m    878\u001b[0m         retryable_write\u001b[39m=\u001b[39;49mretryable_write,\n\u001b[0;32m    879\u001b[0m         let\u001b[39m=\u001b[39;49mlet,\n\u001b[0;32m    880\u001b[0m         comment\u001b[39m=\u001b[39;49mcomment,\n\u001b[0;32m    881\u001b[0m     )\n",
      "File \u001b[1;32mc:\\Users\\andre\\anaconda3\\lib\\site-packages\\pymongo\\collection.py:827\u001b[0m, in \u001b[0;36mCollection._update\u001b[1;34m(self, conn, criteria, document, upsert, multi, write_concern, op_id, ordered, bypass_doc_val, collation, array_filters, hint, session, retryable_write, let, comment)\u001b[0m\n\u001b[0;32m    816\u001b[0m \u001b[39m# The command result has to be published for APM unmodified\u001b[39;00m\n\u001b[0;32m    817\u001b[0m \u001b[39m# so we make a shallow copy here before adding updatedExisting.\u001b[39;00m\n\u001b[0;32m    818\u001b[0m result \u001b[39m=\u001b[39m conn\u001b[39m.\u001b[39mcommand(\n\u001b[0;32m    819\u001b[0m     \u001b[39mself\u001b[39m\u001b[39m.\u001b[39m__database\u001b[39m.\u001b[39mname,\n\u001b[0;32m    820\u001b[0m     command,\n\u001b[1;32m   (...)\u001b[0m\n\u001b[0;32m    825\u001b[0m     retryable_write\u001b[39m=\u001b[39mretryable_write,\n\u001b[0;32m    826\u001b[0m )\u001b[39m.\u001b[39mcopy()\n\u001b[1;32m--> 827\u001b[0m _check_write_command_response(result)\n\u001b[0;32m    828\u001b[0m \u001b[39m# Add the updatedExisting field for compatibility.\u001b[39;00m\n\u001b[0;32m    829\u001b[0m \u001b[39mif\u001b[39;00m result\u001b[39m.\u001b[39mget(\u001b[39m\"\u001b[39m\u001b[39mn\u001b[39m\u001b[39m\"\u001b[39m) \u001b[39mand\u001b[39;00m \u001b[39m\"\u001b[39m\u001b[39mupserted\u001b[39m\u001b[39m\"\u001b[39m \u001b[39mnot\u001b[39;00m \u001b[39min\u001b[39;00m result:\n",
      "File \u001b[1;32mc:\\Users\\andre\\anaconda3\\lib\\site-packages\\pymongo\\helpers.py:259\u001b[0m, in \u001b[0;36m_check_write_command_response\u001b[1;34m(result)\u001b[0m\n\u001b[0;32m    257\u001b[0m write_errors \u001b[39m=\u001b[39m result\u001b[39m.\u001b[39mget(\u001b[39m\"\u001b[39m\u001b[39mwriteErrors\u001b[39m\u001b[39m\"\u001b[39m)\n\u001b[0;32m    258\u001b[0m \u001b[39mif\u001b[39;00m write_errors:\n\u001b[1;32m--> 259\u001b[0m     _raise_last_write_error(write_errors)\n\u001b[0;32m    261\u001b[0m wce \u001b[39m=\u001b[39m _get_wce_doc(result)\n\u001b[0;32m    262\u001b[0m \u001b[39mif\u001b[39;00m wce:\n",
      "File \u001b[1;32mc:\\Users\\andre\\anaconda3\\lib\\site-packages\\pymongo\\helpers.py:232\u001b[0m, in \u001b[0;36m_raise_last_write_error\u001b[1;34m(write_errors)\u001b[0m\n\u001b[0;32m    230\u001b[0m \u001b[39mif\u001b[39;00m error\u001b[39m.\u001b[39mget(\u001b[39m\"\u001b[39m\u001b[39mcode\u001b[39m\u001b[39m\"\u001b[39m) \u001b[39m==\u001b[39m \u001b[39m11000\u001b[39m:\n\u001b[0;32m    231\u001b[0m     \u001b[39mraise\u001b[39;00m DuplicateKeyError(error\u001b[39m.\u001b[39mget(\u001b[39m\"\u001b[39m\u001b[39merrmsg\u001b[39m\u001b[39m\"\u001b[39m), \u001b[39m11000\u001b[39m, error)\n\u001b[1;32m--> 232\u001b[0m \u001b[39mraise\u001b[39;00m WriteError(error\u001b[39m.\u001b[39mget(\u001b[39m\"\u001b[39m\u001b[39merrmsg\u001b[39m\u001b[39m\"\u001b[39m), error\u001b[39m.\u001b[39mget(\u001b[39m\"\u001b[39m\u001b[39mcode\u001b[39m\u001b[39m\"\u001b[39m), error)\n",
      "\u001b[1;31mWriteError\u001b[0m: Unsupported conversion from object to decimal in $convert with no onError value, full error: {'index': 0, 'code': 241, 'errmsg': 'Unsupported conversion from object to decimal in $convert with no onError value'}"
     ]
    }
   ],
   "source": [
    "# Change the data type from String to Decimal for longitude and latitude\n",
    "establishments.update_many({}, [{'$set': {'geocode.longitude': {'$toDecimal': '$geocode.longitude'},\\\n",
    "                                        'geocode.latitude': {'$toDecimal': '$geocode.latitude'}}}])\n",
    "establishments.find_one()"
   ]
  },
  {
   "attachments": {},
   "cell_type": "markdown",
   "id": "142e319c",
   "metadata": {},
   "source": [
    "Use `update_many` to convert `RatingValue` to integer numbers."
   ]
  },
  {
   "cell_type": "code",
   "execution_count": null,
   "id": "04430a5b",
   "metadata": {},
   "outputs": [],
   "source": [
    "# Set non 1-5 Rating Values to Null\n",
    "non_ratings = [\"AwaitingInspection\", \"Awaiting Inspection\", \"AwaitingPublication\", \"Pass\", \"Exempt\"]\n",
    "establishments.update_many({\"RatingValue\": {\"$in\": non_ratings}}, [ {'$set':{ \"RatingValue\" : None}} ])"
   ]
  },
  {
   "cell_type": "code",
   "execution_count": null,
   "id": "92524ccc",
   "metadata": {},
   "outputs": [],
   "source": [
    "# Change the data type from String to Integer for RatingValue\n"
   ]
  },
  {
   "cell_type": "code",
   "execution_count": null,
   "id": "0deacaf9",
   "metadata": {},
   "outputs": [],
   "source": [
    "# Check that the coordinates and rating value are now numbers\n"
   ]
  }
 ],
 "metadata": {
  "kernelspec": {
   "display_name": "Python 3 (ipykernel)",
   "language": "python",
   "name": "python3"
  },
  "language_info": {
   "codemirror_mode": {
    "name": "ipython",
    "version": 3
   },
   "file_extension": ".py",
   "mimetype": "text/x-python",
   "name": "python",
   "nbconvert_exporter": "python",
   "pygments_lexer": "ipython3",
   "version": "3.10.9"
  }
 },
 "nbformat": 4,
 "nbformat_minor": 5
}
